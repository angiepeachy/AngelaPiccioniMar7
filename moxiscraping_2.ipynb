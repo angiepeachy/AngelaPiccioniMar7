{
 "cells": [
  {
   "cell_type": "code",
   "execution_count": 1,
   "metadata": {},
   "outputs": [
    {
     "name": "stdout",
     "output_type": "stream",
     "text": [
      "Requirement already satisfied: requests in c:\\users\\ampic\\appdata\\local\\programs\\python\\python39\\lib\\site-packages (2.31.0)\n",
      "Requirement already satisfied: beautifulsoup4 in c:\\users\\ampic\\appdata\\local\\programs\\python\\python39\\lib\\site-packages (4.12.3)\n",
      "Requirement already satisfied: certifi>=2017.4.17 in c:\\users\\ampic\\appdata\\local\\programs\\python\\python39\\lib\\site-packages (from requests) (2024.2.2)\n",
      "Requirement already satisfied: charset-normalizer<4,>=2 in c:\\users\\ampic\\appdata\\local\\programs\\python\\python39\\lib\\site-packages (from requests) (3.3.2)\n",
      "Requirement already satisfied: urllib3<3,>=1.21.1 in c:\\users\\ampic\\appdata\\local\\programs\\python\\python39\\lib\\site-packages (from requests) (2.2.1)\n",
      "Requirement already satisfied: idna<4,>=2.5 in c:\\users\\ampic\\appdata\\local\\programs\\python\\python39\\lib\\site-packages (from requests) (3.6)\n",
      "Requirement already satisfied: soupsieve>1.2 in c:\\users\\ampic\\appdata\\local\\programs\\python\\python39\\lib\\site-packages (from beautifulsoup4) (2.5)\n",
      "Note: you may need to restart the kernel to use updated packages.\n"
     ]
    },
    {
     "name": "stderr",
     "output_type": "stream",
     "text": [
      "WARNING: You are using pip version 22.0.4; however, version 24.0 is available.\n",
      "You should consider upgrading via the 'c:\\Users\\ampic\\AppData\\Local\\Programs\\Python\\Python39\\python.exe -m pip install --upgrade pip' command.\n"
     ]
    }
   ],
   "source": [
    "pip install requests beautifulsoup4"
   ]
  },
  {
   "cell_type": "code",
   "execution_count": 2,
   "metadata": {},
   "outputs": [],
   "source": [
    "# to get the html\n",
    "import requests\n",
    "\n",
    "# to parse the HTMLDOM\n",
    "from bs4 import BeautifulSoup\n",
    "\n",
    "# patience is virtue\n",
    "import time"
   ]
  },
  {
   "cell_type": "code",
   "execution_count": 3,
   "metadata": {},
   "outputs": [
    {
     "name": "stdout",
     "output_type": "stream",
     "text": [
      "Texts:\n",
      "The Rainbow Rider is great at its affordable price of $109 for someone just getting into skating, and it comes in three fun rainbow-styled colorways.  With a change of wheels, you can dance skate too!  It has a lot of ankle flexibility for a wide range of moves.  Also, this skate tends to run wide so it’s ideal for wider feet.\n",
      "Best for:\n",
      "Not recommended for:\n",
      "The Rainbow Rider is great at its affordable price of $109 for someone just getting into skating, and it comes in three fun rainbow-styled colorways.  With a change of wheels, you can dance skate too!  It has a lot of ankle flexibility for a wide range of moves.  Also, this skate tends to run wide so it’s ideal for wider feet.\n",
      "Best for:\n",
      "Not recommended for:\n",
      "The Beach Bunny is the next best skate for affordability at $169.  It comes in five colors and has great ankle support that keeps you feeling safe! You can dance skate in them with a change of wheels.  While we don’t recommend it, you can even do some light park skating in them.  Evelyn Ivyy started her skate journey in them since they’re vegan friendly!\n",
      "Best for:\n",
      "Not recommended for:\n",
      "The Beach Bunny is the next best skate for affordability at $169.  It comes in five colors and has great ankle support that keeps you feeling safe! You can dance skate in them with a change of wheels.  While we don’t recommend it, you can even do some light park skating in them.  Evelyn Ivyy started her skate journey in them since they’re vegan friendly!\n",
      "Best for:\n",
      "Not recommended for:\n",
      "The Lolly roller skates feature high-quality suede that requires almost no break in time! The suede material of the boot gives the most comfortable cruise in an array of all the colors of the rainbow and black!  There’s lots of ankle flexibility and a good plate to start some light park skating with a change of wheels. We sell them as “completes” or as boot-only if you want to attach your own hardware to them.\n",
      "Best for:\n",
      "Not recommended for:\n",
      "- Aggressive skating\n",
      "The Panther roller skate is similar to the Lolly in that it uses suede as the main material of the boot, except it comes only in black with a leopard liner and has a PVC unit around the ankle for more support.  This skate would be a better option for people that want more stability and support when trying to land tricks that might be heavier on the ankles, and it’s not quite as expensive as the Jack boot so if you’re just getting into park skating, this is a good option to dip your toes in.\n",
      "Best for:\n",
      "Not recommended for:\n",
      "The Panther roller skate is similar to the Lolly in that it uses suede as the main material of the boot, except it comes only in black with a leopard liner and has a PVC unit around the ankle for more support.  This skate would be a better option for people that want more stability and support when trying to land tricks that might be heavier on the ankles, and it’s not quite as expensive as the Jack boot so if you’re just getting into park skating, this is a good option to dip your toes in.\n",
      "Best for:\n",
      "Not recommended for:\n",
      "- Aggressive skating\n",
      "The Lolly roller skates feature high-quality suede that requires almost no break in time! The suede material of the boot gives the most comfortable cruise in an array of all the colors of the rainbow and black!  There’s lots of ankle flexibility and a good plate to start some light park skating with a change of wheels. We sell them as “completes” or as boot-only if you want to attach your own hardware to them.\n",
      "Best for:\n",
      "Not recommended for:\n",
      "The Jack boot is a great starter for more aggressive skating or dance skating with more ankle support.  We sell these as boot-only or as custom packages like the Estro Package, so you can build the ultimate skate set-up of your dreams!  After around 10 hours of break in time, the suede skate comfortably molds around your feet.  The Jack's come in all the same rainbow colors as the Lolly as well as a white vegan leather.\n",
      "Best for:\n",
      "The Jack boot is a great starter for more aggressive skating or dance skating with more ankle support.  We sell these as boot-only or as custom packages like the Estro Package, so you can build the ultimate skate set-up of your dreams!  After around 10 hours of break in time, the suede skate comfortably molds around your feet.  The Jack's come in all the same rainbow colors as the Lolly as well as a white vegan leather.\n",
      "Best for:\n",
      "The Jack 2 boot is the ultimate skate for aggressive skating because it has more support than the first Jack.  Also with the Jack 2 builds, you can order any of the standard colors (Lilac, True Blue, Black, White Vegan) or even special colors like Poppy and Taffy!  Because it features additional support, the Jack 2 needs about 20 hours of break in time. After that the suede skate molds around your feet to give you the stiffest and most secure skate to land hard-impact tricks.\n",
      "Best for:\n",
      "The Jack 2 boot is the ultimate skate for aggressive skating because it has more support than the first Jack.  Also with the Jack 2 builds, you can order any of the standard colors (Lilac, True Blue, Black, White Vegan) or even special colors like Poppy and Taffy!  Because it features additional support, the Jack 2 needs about 20 hours of break in time. After that the suede skate molds around your feet to give you the stiffest and most secure skate to land hard-impact tricks.\n",
      "Best for:\n"
     ]
    }
   ],
   "source": [
    "import requests\n",
    "from bs4 import BeautifulSoup\n",
    "\n",
    "# URL of the page to scrape\n",
    "url = \"https://www.moxiskates.com/pages/roller-skate-buying-guide\"\n",
    "\n",
    "# Send a GET request to the URL\n",
    "response = requests.get(url)\n",
    "\n",
    "# Check if the request was successful (status code 200)\n",
    "if response.status_code == 200:\n",
    "    # Parse the HTML content of the page\n",
    "    soup = BeautifulSoup(response.content, \"html.parser\")\n",
    "    \n",
    "    # Find all span elements with the specified style attribute\n",
    "    target_spans = soup.find_all(\"span\", style=\"font-weight: 400;\")\n",
    "    \n",
    "    # Extract text from each span element\n",
    "    texts = [span.text.strip() for span in target_spans]\n",
    "    \n",
    "    # Print extracted text\n",
    "    print(\"Texts:\")\n",
    "    for text in texts:\n",
    "        print(text)\n",
    "else:\n",
    "    print(\"Failed to retrieve the page.\")\n"
   ]
  },
  {
   "cell_type": "code",
   "execution_count": 4,
   "metadata": {},
   "outputs": [
    {
     "name": "stdout",
     "output_type": "stream",
     "text": [
      "Requirement already satisfied: pandas in c:\\users\\ampic\\appdata\\local\\programs\\python\\python39\\lib\\site-packages (2.2.0)\n",
      "Requirement already satisfied: tzdata>=2022.7 in c:\\users\\ampic\\appdata\\local\\programs\\python\\python39\\lib\\site-packages (from pandas) (2024.1)\n",
      "Requirement already satisfied: numpy<2,>=1.22.4 in c:\\users\\ampic\\appdata\\local\\programs\\python\\python39\\lib\\site-packages (from pandas) (1.26.4)\n",
      "Requirement already satisfied: pytz>=2020.1 in c:\\users\\ampic\\appdata\\local\\programs\\python\\python39\\lib\\site-packages (from pandas) (2024.1)\n",
      "Requirement already satisfied: python-dateutil>=2.8.2 in c:\\users\\ampic\\appdata\\roaming\\python\\python39\\site-packages (from pandas) (2.8.2)\n",
      "Requirement already satisfied: six>=1.5 in c:\\users\\ampic\\appdata\\roaming\\python\\python39\\site-packages (from python-dateutil>=2.8.2->pandas) (1.16.0)\n",
      "Note: you may need to restart the kernel to use updated packages.\n"
     ]
    },
    {
     "name": "stderr",
     "output_type": "stream",
     "text": [
      "WARNING: You are using pip version 22.0.4; however, version 24.0 is available.\n",
      "You should consider upgrading via the 'c:\\Users\\ampic\\AppData\\Local\\Programs\\Python\\Python39\\python.exe -m pip install --upgrade pip' command.\n"
     ]
    }
   ],
   "source": [
    "pip install pandas"
   ]
  },
  {
   "cell_type": "code",
   "execution_count": 8,
   "metadata": {},
   "outputs": [
    {
     "name": "stdout",
     "output_type": "stream",
     "text": [
      "                                               Texts\n",
      "0  The Rainbow Rider is great at its affordable p...\n",
      "1  The Beach Bunny is the next best skate for aff...\n",
      "2  The Lolly roller skates feature high-quality s...\n",
      "3  The Panther roller skate is similar to the Lol...\n",
      "4  The Jack boot is a great starter for more aggr...\n",
      "5  The Jack 2 boot is the ultimate skate for aggr...\n"
     ]
    }
   ],
   "source": [
    "import requests\n",
    "from bs4 import BeautifulSoup\n",
    "import pandas as pd\n",
    "\n",
    "# URL of the page to scrape\n",
    "url = \"https://www.moxiskates.com/pages/roller-skate-buying-guide\"\n",
    "\n",
    "# Send a GET request to the URL\n",
    "response = requests.get(url)\n",
    "\n",
    "# Check if the request was successful (status code 200)\n",
    "if response.status_code == 200:\n",
    "    # Parse the HTML content of the page\n",
    "    soup = BeautifulSoup(response.content, \"html.parser\")\n",
    "    \n",
    "    # Find all span elements with the specified style attribute\n",
    "    target_spans = soup.find_all(\"span\", style=\"font-weight: 400;\")\n",
    "    \n",
    "    # Extract text from each span element\n",
    "    texts = [span.text.strip() for span in target_spans]\n",
    "    \n",
    "    # Store the extracted texts in a DataFrame\n",
    "    df = pd.DataFrame({\"Texts\": texts})\n",
    "    \n",
    "    # Delete rows containing \"Best for:\"\n",
    "    df = df[~df['Texts'].str.contains(\"Best for:\")]\n",
    "    df = df[~df['Texts'].str.contains(\"Not recommended for:\")]\n",
    "    df = df[~df['Texts'].str.contains(\"- Aggressive skating\")]\n",
    "    df = df.drop_duplicates()\n",
    "\n",
    "    \n",
    "    # Reset index after deletion\n",
    "    df.reset_index(drop=True, inplace=True)\n",
    "    \n",
    "    # Print the updated DataFrame\n",
    "    print(df)\n",
    "else:\n",
    "    print(\"Failed to retrieve the page.\")\n"
   ]
  },
  {
   "cell_type": "code",
   "execution_count": null,
   "metadata": {},
   "outputs": [],
   "source": [
    "import requests\n",
    "from bs4 import BeautifulSoup\n",
    "\n",
    "# URL of the webpage\n",
    "url = \"https://www.moxiskates.com/pages/roller-skate-buying-guide\"\n",
    "\n",
    "# Fetch the HTML content from the webpage\n",
    "response = requests.get(url)\n",
    "\n",
    "# Check if the request was successful\n",
    "if response.status_code == 200:\n",
    "    # Parse the HTML content\n",
    "    soup = BeautifulSoup(response.content, 'html.parser')\n",
    "\n",
    "    # Find the <div> element with the specified class\n",
    "    div_element = soup.find('div', class_='shg-c shg-align-left')\n",
    "\n",
    "    # Extract the text content of the <div> element\n",
    "    if div_element:\n",
    "        print(div_element.text.strip())\n",
    "    else:\n",
    "        print(\"No <div> element found with the specified class.\")\n",
    "else:\n",
    "    print(\"Failed to retrieve the webpage.\")\n"
   ]
  },
  {
   "cell_type": "code",
   "execution_count": null,
   "metadata": {},
   "outputs": [],
   "source": [
    "url = \"https://www.moxiskates.com/pages/roller-skate-buying-guide\"\n",
    "\n",
    "\n",
    "# Fetch the HTML content from the webpage\n",
    "response = requests.get(url)\n",
    "\n",
    "# Check if the request was successful\n",
    "if response.status_code == 200:\n",
    "    # Parse the HTML content\n",
    "    soup = BeautifulSoup(response.content, 'html.parser')\n",
    "\n",
    "    # Find the <div> elements with the specified IDs\n",
    "    div_element = soup.find('div', id='s-1015fb4d-7ec0-4f60-a8bf-1a37e78bbc06')\n",
    "    div_element = soup.find('div', id='s-0ffdf94a-b7a8-48d6-b71e-dd3ee9b9ff0c')\n",
    "    div_element = soup.find('div', id='s-48a20ab2-cd38-4004-8a9c-b5810f6a656e')\n",
    "    div_element = soup.find('div', id='s-0f924a0c-526e-43c7-b98b-e409ed08300e')\n",
    "    div_element = soup.find('div', id='s-9a2cf90f-e4e9-4e50-a1f0-948017831701')\n",
    "    div_element = soup.find('div', id='s-200170f1-8083-4d43-8051-c50bc8cf4a53')\n",
    "\n",
    "    # Extract the text content of the <div> element\n",
    "    if div_element:\n",
    "        print(div_element.text.strip())\n",
    "    else:\n",
    "        print(\"No <div> element found with the specified ID.\")\n",
    "else:\n",
    "    print(\"Failed to retrieve the webpage.\")"
   ]
  }
 ],
 "metadata": {
  "kernelspec": {
   "display_name": "Python 3",
   "language": "python",
   "name": "python3"
  },
  "language_info": {
   "codemirror_mode": {
    "name": "ipython",
    "version": 3
   },
   "file_extension": ".py",
   "mimetype": "text/x-python",
   "name": "python",
   "nbconvert_exporter": "python",
   "pygments_lexer": "ipython3",
   "version": "3.9.13"
  }
 },
 "nbformat": 4,
 "nbformat_minor": 2
}
